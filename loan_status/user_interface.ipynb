{
 "cells": [
  {
   "cell_type": "code",
   "execution_count": 1,
   "id": "b8fcd5ea",
   "metadata": {},
   "outputs": [],
   "source": [
    "import gradio as gr\n",
    "import numpy as np\n",
    "import pandas as pd \n",
    "import joblib\n",
    "from sklearn.datasets import load_iris"
   ]
  },
  {
   "cell_type": "code",
   "execution_count": 2,
   "id": "306c8c2b-262e-4264-b033-561b62060bcb",
   "metadata": {},
   "outputs": [
    {
     "name": "stdout",
     "output_type": "stream",
     "text": [
      "Running on local URL:  http://127.0.0.1:7860\n",
      "\n",
      "To create a public link, set `share=True` in `launch()`.\n"
     ]
    },
    {
     "data": {
      "text/html": [
       "<div><iframe src=\"http://127.0.0.1:7860/\" width=\"100%\" height=\"500\" allow=\"autoplay; camera; microphone; clipboard-read; clipboard-write;\" frameborder=\"0\" allowfullscreen></iframe></div>"
      ],
      "text/plain": [
       "<IPython.core.display.HTML object>"
      ]
     },
     "metadata": {},
     "output_type": "display_data"
    },
    {
     "name": "stderr",
     "output_type": "stream",
     "text": [
      "Traceback (most recent call last):\n",
      "  File \"C:\\Users\\AFARA Intermediaries\\.virtualenvs\\loan_status-jjRb_BL6\\Lib\\site-packages\\gradio\\queueing.py\", line 521, in process_events\n",
      "    response = await route_utils.call_process_api(\n",
      "               ^^^^^^^^^^^^^^^^^^^^^^^^^^^^^^^^^^^\n",
      "  File \"C:\\Users\\AFARA Intermediaries\\.virtualenvs\\loan_status-jjRb_BL6\\Lib\\site-packages\\gradio\\route_utils.py\", line 276, in call_process_api\n",
      "    output = await app.get_blocks().process_api(\n",
      "             ^^^^^^^^^^^^^^^^^^^^^^^^^^^^^^^^^^^\n",
      "  File \"C:\\Users\\AFARA Intermediaries\\.virtualenvs\\loan_status-jjRb_BL6\\Lib\\site-packages\\gradio\\blocks.py\", line 1945, in process_api\n",
      "    result = await self.call_function(\n",
      "             ^^^^^^^^^^^^^^^^^^^^^^^^^\n",
      "  File \"C:\\Users\\AFARA Intermediaries\\.virtualenvs\\loan_status-jjRb_BL6\\Lib\\site-packages\\gradio\\blocks.py\", line 1513, in call_function\n",
      "    prediction = await anyio.to_thread.run_sync(\n",
      "                 ^^^^^^^^^^^^^^^^^^^^^^^^^^^^^^^\n",
      "  File \"C:\\Users\\AFARA Intermediaries\\.virtualenvs\\loan_status-jjRb_BL6\\Lib\\site-packages\\anyio\\to_thread.py\", line 56, in run_sync\n",
      "    return await get_async_backend().run_sync_in_worker_thread(\n",
      "           ^^^^^^^^^^^^^^^^^^^^^^^^^^^^^^^^^^^^^^^^^^^^^^^^^^^^\n",
      "  File \"C:\\Users\\AFARA Intermediaries\\.virtualenvs\\loan_status-jjRb_BL6\\Lib\\site-packages\\anyio\\_backends\\_asyncio.py\", line 2144, in run_sync_in_worker_thread\n",
      "    return await future\n",
      "           ^^^^^^^^^^^^\n",
      "  File \"C:\\Users\\AFARA Intermediaries\\.virtualenvs\\loan_status-jjRb_BL6\\Lib\\site-packages\\anyio\\_backends\\_asyncio.py\", line 851, in run\n",
      "    result = context.run(func, *args)\n",
      "             ^^^^^^^^^^^^^^^^^^^^^^^^\n",
      "  File \"C:\\Users\\AFARA Intermediaries\\.virtualenvs\\loan_status-jjRb_BL6\\Lib\\site-packages\\gradio\\utils.py\", line 831, in wrapper\n",
      "    response = f(*args, **kwargs)\n",
      "               ^^^^^^^^^^^^^^^^^^\n",
      "  File \"C:\\Users\\AFARA Intermediaries\\AppData\\Local\\Temp\\ipykernel_6264\\1140112328.py\", line 5, in predict_status\n",
      "    prediction = model.predict(input_data)\n",
      "                 ^^^^^^^^^^^^^\n",
      "AttributeError: 'tuple' object has no attribute 'predict'\n"
     ]
    }
   ],
   "source": [
    "model = joblib.load('loan-model.bin')\n",
    "\n",
    "def predict_status(customerid, gender, married, dependents, education, self_employed, coapplicantincome, applicantincome, loanamount, loan_amount_term, credit_history, property_area):\n",
    "    input_data = np.array([[customerid, gender, married, dependents, education, self_employed, coapplicantincome, applicantincome, loanamount, loan_amount_term, credit_history, property_area]])\n",
    "    prediction = model.predict(input_data)\n",
    "    status = iris.target_names[prediction][0]\n",
    "    \n",
    "    if status >= 0.5:\n",
    "        print('Good Standing - Approved: \"Applicant stand a higher chance paying back loan\"')\n",
    "    else:\n",
    "        print('Bad Standing - Rejected: \"Applicant stand a higher chance defaulting payment\"')\n",
    "\n",
    "# Create the Gradio interface\n",
    "interface = gr.Interface(\n",
    "    fn=predict_status,\n",
    "    inputs=[\n",
    "        gr.Text(label=\"Client ID\"),      \n",
    "        gr.Dropdown(choices=[\"Male\", \"Female\"], label=\"Gender\", interactive = True),\n",
    "        gr.Dropdown(choices=[\"Married\", \"Not Married\"], label=\"Marital Status\"),\n",
    "        gr.Number(label=\"Dependants\"),          \n",
    "        gr.Dropdown(choices=[\"Graduate\", \"Not Graduate\"], label=\"Education\"),        \n",
    "        gr.Dropdown(choices=[\"Employed\", \"Self Employed\"], label=\"Employment Status\"),        \n",
    "        gr.Number(label = \"Co Applicant's Income\", interactive = True),\n",
    "        gr.Number(label = \"Applicant's Income (Mandatory)\", interactive = True),         \n",
    "        gr.Number(label = \"Loan Amount (Mandatory)\", interactive = True),        \n",
    "        gr.Number(label = \"Loan Period in Months (Mandatory)\", interactive = True),        \n",
    "        gr.Dropdown(choices=[0,1], label=\"Credit history\"),        \n",
    "        gr.Dropdown(choices=[\"Rural\", \"Urban\"], label=\"Property Area\")   \n",
    "    ],\n",
    "    outputs=\"text\",\n",
    "    title=\"LOAN STATUS (LS) PREDICTOR\"  \n",
    ")\n",
    "\n",
    "\n",
    " \n",
    "\n",
    "# Launch the app\n",
    "if __name__ == \"__main__\":\n",
    "    interface.launch()"
   ]
  },
  {
   "cell_type": "code",
   "execution_count": null,
   "id": "bd6f9031-eb6b-4327-bdea-63164cb93581",
   "metadata": {},
   "outputs": [],
   "source": []
  }
 ],
 "metadata": {
  "kernelspec": {
   "display_name": "Python 3 (ipykernel)",
   "language": "python",
   "name": "python3"
  },
  "language_info": {
   "codemirror_mode": {
    "name": "ipython",
    "version": 3
   },
   "file_extension": ".py",
   "mimetype": "text/x-python",
   "name": "python",
   "nbconvert_exporter": "python",
   "pygments_lexer": "ipython3",
   "version": "3.11.3"
  }
 },
 "nbformat": 4,
 "nbformat_minor": 5
}
