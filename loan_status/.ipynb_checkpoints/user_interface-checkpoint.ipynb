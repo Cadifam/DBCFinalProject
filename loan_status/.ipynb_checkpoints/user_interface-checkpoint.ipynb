{
 "cells": [
  {
   "cell_type": "code",
   "execution_count": 1,
   "id": "b8fcd5ea",
   "metadata": {},
   "outputs": [],
   "source": [
    "import gradio as gr\n",
    "import numpy as np\n",
    "import pandas as pd \n",
    "import joblib\n",
    "from sklearn.datasets import load_iris"
   ]
  },
  {
   "cell_type": "code",
   "execution_count": 2,
   "id": "306c8c2b-262e-4264-b033-561b62060bcb",
   "metadata": {},
   "outputs": [
    {
     "ename": "NameError",
     "evalue": "name 'classify_multiple_inputs' is not defined",
     "output_type": "error",
     "traceback": [
      "\u001b[1;31m---------------------------------------------------------------------------\u001b[0m",
      "\u001b[1;31mNameError\u001b[0m                                 Traceback (most recent call last)",
      "Cell \u001b[1;32mIn[2], line 15\u001b[0m\n\u001b[0;32m     11\u001b[0m         \u001b[38;5;28mprint\u001b[39m(\u001b[38;5;124m'\u001b[39m\u001b[38;5;124mBad Standing - Rejected: \u001b[39m\u001b[38;5;124m\"\u001b[39m\u001b[38;5;124mApplicant stand a higher chance defaulting payment\u001b[39m\u001b[38;5;124m\"\u001b[39m\u001b[38;5;124m'\u001b[39m)\n\u001b[0;32m     13\u001b[0m \u001b[38;5;66;03m# Create the Gradio interface\u001b[39;00m\n\u001b[0;32m     14\u001b[0m interface \u001b[38;5;241m=\u001b[39m gr\u001b[38;5;241m.\u001b[39mInterface(\n\u001b[1;32m---> 15\u001b[0m     fn\u001b[38;5;241m=\u001b[39m\u001b[43mclassify_multiple_inputs\u001b[49m,\n\u001b[0;32m     16\u001b[0m     inputs\u001b[38;5;241m=\u001b[39m[\n\u001b[0;32m     17\u001b[0m         gr\u001b[38;5;241m.\u001b[39mText(label\u001b[38;5;241m=\u001b[39m\u001b[38;5;124m\"\u001b[39m\u001b[38;5;124mClient ID\u001b[39m\u001b[38;5;124m\"\u001b[39m),      \n\u001b[0;32m     18\u001b[0m         gr\u001b[38;5;241m.\u001b[39mDropdown(choices\u001b[38;5;241m=\u001b[39m[\u001b[38;5;124m\"\u001b[39m\u001b[38;5;124mMale\u001b[39m\u001b[38;5;124m\"\u001b[39m, \u001b[38;5;124m\"\u001b[39m\u001b[38;5;124mFemale\u001b[39m\u001b[38;5;124m\"\u001b[39m], label\u001b[38;5;241m=\u001b[39m\u001b[38;5;124m\"\u001b[39m\u001b[38;5;124mGender\u001b[39m\u001b[38;5;124m\"\u001b[39m, interactive \u001b[38;5;241m=\u001b[39m \u001b[38;5;28;01mTrue\u001b[39;00m),\n\u001b[0;32m     19\u001b[0m         gr\u001b[38;5;241m.\u001b[39mDropdown(choices\u001b[38;5;241m=\u001b[39m[\u001b[38;5;124m\"\u001b[39m\u001b[38;5;124mMarried\u001b[39m\u001b[38;5;124m\"\u001b[39m, \u001b[38;5;124m\"\u001b[39m\u001b[38;5;124mNot Married\u001b[39m\u001b[38;5;124m\"\u001b[39m], label\u001b[38;5;241m=\u001b[39m\u001b[38;5;124m\"\u001b[39m\u001b[38;5;124mMarital Status\u001b[39m\u001b[38;5;124m\"\u001b[39m),\n\u001b[0;32m     20\u001b[0m         gr\u001b[38;5;241m.\u001b[39mNumber(label\u001b[38;5;241m=\u001b[39m\u001b[38;5;124m\"\u001b[39m\u001b[38;5;124mDependants\u001b[39m\u001b[38;5;124m\"\u001b[39m),          \n\u001b[0;32m     21\u001b[0m         gr\u001b[38;5;241m.\u001b[39mDropdown(choices\u001b[38;5;241m=\u001b[39m[\u001b[38;5;124m\"\u001b[39m\u001b[38;5;124mGraduate\u001b[39m\u001b[38;5;124m\"\u001b[39m, \u001b[38;5;124m\"\u001b[39m\u001b[38;5;124mNot Graduate\u001b[39m\u001b[38;5;124m\"\u001b[39m], label\u001b[38;5;241m=\u001b[39m\u001b[38;5;124m\"\u001b[39m\u001b[38;5;124mEducation\u001b[39m\u001b[38;5;124m\"\u001b[39m),        \n\u001b[0;32m     22\u001b[0m         gr\u001b[38;5;241m.\u001b[39mDropdown(choices\u001b[38;5;241m=\u001b[39m[\u001b[38;5;124m\"\u001b[39m\u001b[38;5;124mEmployed\u001b[39m\u001b[38;5;124m\"\u001b[39m, \u001b[38;5;124m\"\u001b[39m\u001b[38;5;124mSelf Employed\u001b[39m\u001b[38;5;124m\"\u001b[39m], label\u001b[38;5;241m=\u001b[39m\u001b[38;5;124m\"\u001b[39m\u001b[38;5;124mEmployment Status\u001b[39m\u001b[38;5;124m\"\u001b[39m),        \n\u001b[0;32m     23\u001b[0m         gr\u001b[38;5;241m.\u001b[39mNumber(label \u001b[38;5;241m=\u001b[39m \u001b[38;5;124m\"\u001b[39m\u001b[38;5;124mCo Applicant\u001b[39m\u001b[38;5;124m'\u001b[39m\u001b[38;5;124ms Income\u001b[39m\u001b[38;5;124m\"\u001b[39m, interactive \u001b[38;5;241m=\u001b[39m \u001b[38;5;28;01mTrue\u001b[39;00m),\n\u001b[0;32m     24\u001b[0m         gr\u001b[38;5;241m.\u001b[39mNumber(label \u001b[38;5;241m=\u001b[39m \u001b[38;5;124m\"\u001b[39m\u001b[38;5;124mApplicant\u001b[39m\u001b[38;5;124m'\u001b[39m\u001b[38;5;124ms Income (Mandatory)\u001b[39m\u001b[38;5;124m\"\u001b[39m, interactive \u001b[38;5;241m=\u001b[39m \u001b[38;5;28;01mTrue\u001b[39;00m),         \n\u001b[0;32m     25\u001b[0m         gr\u001b[38;5;241m.\u001b[39mNumber(label \u001b[38;5;241m=\u001b[39m \u001b[38;5;124m\"\u001b[39m\u001b[38;5;124mLoan Amount (Mandatory)\u001b[39m\u001b[38;5;124m\"\u001b[39m, interactive \u001b[38;5;241m=\u001b[39m \u001b[38;5;28;01mTrue\u001b[39;00m),        \n\u001b[0;32m     26\u001b[0m         gr\u001b[38;5;241m.\u001b[39mNumber(label \u001b[38;5;241m=\u001b[39m \u001b[38;5;124m\"\u001b[39m\u001b[38;5;124mLoan Period in Months (Mandatory)\u001b[39m\u001b[38;5;124m\"\u001b[39m, interactive \u001b[38;5;241m=\u001b[39m \u001b[38;5;28;01mTrue\u001b[39;00m),        \n\u001b[0;32m     27\u001b[0m         gr\u001b[38;5;241m.\u001b[39mDropdown(choices\u001b[38;5;241m=\u001b[39m[\u001b[38;5;241m0\u001b[39m,\u001b[38;5;241m1\u001b[39m], label\u001b[38;5;241m=\u001b[39m\u001b[38;5;124m\"\u001b[39m\u001b[38;5;124mCredit history\u001b[39m\u001b[38;5;124m\"\u001b[39m),        \n\u001b[0;32m     28\u001b[0m         gr\u001b[38;5;241m.\u001b[39mDropdown(choices\u001b[38;5;241m=\u001b[39m[\u001b[38;5;124m\"\u001b[39m\u001b[38;5;124mRural\u001b[39m\u001b[38;5;124m\"\u001b[39m, \u001b[38;5;124m\"\u001b[39m\u001b[38;5;124mUrban\u001b[39m\u001b[38;5;124m\"\u001b[39m], label\u001b[38;5;241m=\u001b[39m\u001b[38;5;124m\"\u001b[39m\u001b[38;5;124mProperty Area\u001b[39m\u001b[38;5;124m\"\u001b[39m)   \n\u001b[0;32m     29\u001b[0m     ],\n\u001b[0;32m     30\u001b[0m     outputs\u001b[38;5;241m=\u001b[39m\u001b[38;5;124m\"\u001b[39m\u001b[38;5;124mtext\u001b[39m\u001b[38;5;124m\"\u001b[39m,\n\u001b[0;32m     31\u001b[0m     title\u001b[38;5;241m=\u001b[39m\u001b[38;5;124m\"\u001b[39m\u001b[38;5;124mLOAN STATUS (LS) PREDICTOR\u001b[39m\u001b[38;5;124m\"\u001b[39m  \n\u001b[0;32m     32\u001b[0m )\n\u001b[0;32m     37\u001b[0m \u001b[38;5;66;03m# Launch the app\u001b[39;00m\n\u001b[0;32m     38\u001b[0m \u001b[38;5;28;01mif\u001b[39;00m \u001b[38;5;18m__name__\u001b[39m \u001b[38;5;241m==\u001b[39m \u001b[38;5;124m\"\u001b[39m\u001b[38;5;124m__main__\u001b[39m\u001b[38;5;124m\"\u001b[39m:\n",
      "\u001b[1;31mNameError\u001b[0m: name 'classify_multiple_inputs' is not defined"
     ]
    }
   ],
   "source": [
    "model = joblib.load('loan-model.bin')\n",
    "\n",
    "def predict_status(customerid, gender, married, dependents, education, self_employed, coapplicantincome, applicantincome, loanamount, loan_amount_term, credit_history, property_area):\n",
    "    input_data = np.array([[customerid, gender, married, dependents, education, self_employed, coapplicantincome, applicantincome, loanamount, loan_amount_term, credit_history, property_area]])\n",
    "    prediction = model.predict(input_data)\n",
    "    status = iris.target_names[prediction][0]\n",
    "    \n",
    "    if status >= 0.5:\n",
    "        print('Good Standing - Approved: \"Applicant stand a higher chance paying back loan\"')\n",
    "    else:\n",
    "        print('Bad Standing - Rejected: \"Applicant stand a higher chance defaulting payment\"')\n",
    "\n",
    "# Create the Gradio interface\n",
    "interface = gr.Interface(\n",
    "    fn=predict_status,\n",
    "    inputs=[\n",
    "        gr.Text(label=\"Client ID\"),      \n",
    "        gr.Dropdown(choices=[\"Male\", \"Female\"], label=\"Gender\", interactive = True),\n",
    "        gr.Dropdown(choices=[\"Married\", \"Not Married\"], label=\"Marital Status\"),\n",
    "        gr.Number(label=\"Dependants\"),          \n",
    "        gr.Dropdown(choices=[\"Graduate\", \"Not Graduate\"], label=\"Education\"),        \n",
    "        gr.Dropdown(choices=[\"Employed\", \"Self Employed\"], label=\"Employment Status\"),        \n",
    "        gr.Number(label = \"Co Applicant's Income\", interactive = True),\n",
    "        gr.Number(label = \"Applicant's Income (Mandatory)\", interactive = True),         \n",
    "        gr.Number(label = \"Loan Amount (Mandatory)\", interactive = True),        \n",
    "        gr.Number(label = \"Loan Period in Months (Mandatory)\", interactive = True),        \n",
    "        gr.Dropdown(choices=[0,1], label=\"Credit history\"),        \n",
    "        gr.Dropdown(choices=[\"Rural\", \"Urban\"], label=\"Property Area\")   \n",
    "    ],\n",
    "    outputs=\"text\",\n",
    "    title=\"LOAN STATUS (LS) PREDICTOR\"  \n",
    ")\n",
    "\n",
    "\n",
    " \n",
    "\n",
    "# Launch the app\n",
    "if __name__ == \"__main__\":\n",
    "    interface.launch()"
   ]
  },
  {
   "cell_type": "code",
   "execution_count": null,
   "id": "bd6f9031-eb6b-4327-bdea-63164cb93581",
   "metadata": {},
   "outputs": [],
   "source": []
  }
 ],
 "metadata": {
  "kernelspec": {
   "display_name": "Python 3 (ipykernel)",
   "language": "python",
   "name": "python3"
  },
  "language_info": {
   "codemirror_mode": {
    "name": "ipython",
    "version": 3
   },
   "file_extension": ".py",
   "mimetype": "text/x-python",
   "name": "python",
   "nbconvert_exporter": "python",
   "pygments_lexer": "ipython3",
   "version": "3.11.3"
  }
 },
 "nbformat": 4,
 "nbformat_minor": 5
}
